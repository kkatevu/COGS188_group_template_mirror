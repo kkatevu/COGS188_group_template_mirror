{
 "cells": [
  {
   "attachments": {},
   "cell_type": "markdown",
   "metadata": {},
   "source": [
    "# COGS 188 - Project Proposal"
   ]
  },
  {
   "cell_type": "markdown",
   "metadata": {},
   "source": [
    "# Names\n",
    "\n",
    "Hopefully your team is at least this good. Obviously you should replace these with your names.\n",
    "\n",
    "- Katelyn Vu\n",
    "- Shruti Rao\n",
    "- Jane\n"
   ]
  },
  {
   "cell_type": "markdown",
   "metadata": {},
   "source": [
    "# Abstract \n",
    "\n",
    "The goal of this project is to develop an AI-powered bot for the classic game Battleship, aimed at enhancing strategic decision-making and gameplay efficiency. The data utilized includes a series of game states, representing the positions of ships and the sequence of moves made by both the AI and human players. These data points are measured in terms of hit or miss outcomes, ship placements, and the number of turns taken to achieve victory. The core of the project involves training the AI to predict optimal moves based on historical game data and employing reinforcement learning techniques to improve its strategy over time. The bot will be tested against both simulated and real human opponents to ensure a comprehensive evaluation. Performance and success will be measured by the AI’s win rate, the average number of moves required to win, and its ability to adapt to different strategies. This project aims to create a robust and intelligent Battleship bot capable of competing at a high level, providing both challenging and engaging gameplay for users."
   ]
  },
  {
   "cell_type": "markdown",
   "metadata": {},
   "source": [
    "# Background\n",
    "\n",
    "Battleship is a classic two-player strategy game that has captivated players of all ages for decades. The objective of the game is to strategically position your fleet of ships on a hidden grid and then guess the locations of your opponent's ships. Each player's grid is typically a 10x10 grid, and the fleet usually consists of ships of varying lengths. Players take turns calling out grid coordinates to attack their opponent's ships, and the first player to sink all of their opponent's ships wins the game.\n", 
    "\n",
    "The popularity of Battleship is not only due to its simplicity but also due to the deep strategic elements it incorporates. Players must balance between offensive and defensive tactics, making educated guesses based on limited information and adjusting their strategies as the game progresses. This blend of strategy, probability, and pattern recognition makes Battleship an ideal candidate for developing artificial intelligence (AI) to play the game effectively.\n",
    "\n",
    "There have been many previous researchers that have successfully programmed an AI modek that can play an effective game of battleship. Alessio Tamburro was able to do so he trained a model using [1](https://towardsdatascience.com/an-artificial-intelligence-learns-to-play-battleship-ebd2cf9adb01#0fbd) using Q-learning and a linear model with an epsilon-greedy policy. This was tested on a 5x5 Battleship board over 100,000 episodes, with epsilon decaying to 0.01 to ensure sufficient exploration. Using stochastic gradient descent to minimize the Q function loss, initial tests with a fixed ship location confirmed the algorithm's effectiveness. For our problem, we want to look at a bigger board and implement reinforcement learning.\n"
   ]
  },
  {
   "cell_type": "markdown",
   "metadata": {},
   "source": [
    "# Problem Statement\n",
    "\n",
    "The problem we aim to solve is the development of an advanced AI bot that can effectively compete against human players in an enhanced version of the Battleship game. This version features a larger 15x15 grid, which introduces increased complexity and requires more sophisticated strategies. The core challenge is to create an AI that can accurately predict the positions of the opponent's fleet and execute strategic maneuvers to efficiently sink their ships while minimizing the risk to its own fleet. It can be expressed in mathematical terms by optimizing search algorithms and strategic decision-making processes, measured through specific metrics such as the number of games won and average number of moves taken, and consistently reproduced under standardized game rules for thorough testing and validation.\n"
   ]
  },
  {
   "cell_type": "markdown",
   "metadata": {},
   "source": [
    "# Data\n",
    "\n",
    "You should have a strong idea of what dataset(s) will be used to accomplish this project. \n",
    "\n",
    "If you know what (some) of the data you will use, please give the following information for each dataset:\n",
    "- link/reference to obtain it\n",
    "- description of the size of the dataset (# of variables, # of observations)\n",
    "- what an observation consists of\n",
    "- what some critical variables are, how they are represented\n",
    "- any special handling, transformations, cleaning, etc will be needed\n",
    "\n",
    "If you don't yet know what your dataset(s) will be, you should describe what you desire in terms of the above bullets."
   ]
  },
  {
   "cell_type": "markdown",
   "metadata": {},
   "source": [
    "# Proposed Solution\n",
    "\n",
    "In this section, clearly describe a solution to the problem. The solution should be applicable to the project domain and appropriate for the dataset(s) or input(s) given. Provide enough detail (e.g., algorithmic description and/or theoretical properties) to convince us that your solution is applicable. Why might your solution work? Make sure to describe how the solution will be tested.  \n",
    "\n",
    "If you know details already, describe how (e.g., library used, function calls) you plan to implement the solution in a way that is reproducible.\n",
    "\n",
    "If it is appropriate to the problem statement, describe a benchmark model<a name=\"sota\"></a>[<sup>[3]</sup>](#sotanote) against which your solution will be compared. "
   ]
  },
  {
   "cell_type": "markdown",
   "metadata": {},
   "source": [
    "# Evaluation Metrics\n",
    "\n",
    "Propose at least one evaluation metric that can be used to quantify the performance of both the benchmark model and the solution model. The evaluation metric(s) you propose should be appropriate given the context of the data, the problem statement, and the intended solution. Describe how the evaluation metric(s) are derived and provide an example of their mathematical representations (if applicable). Complex evaluation metrics should be clearly defined and quantifiable (can be expressed in mathematical or logical terms)."
   ]
  },
  {
   "cell_type": "markdown",
   "metadata": {},
   "source": [
    "# Ethics & Privacy"
   ]
  },
  {
   "cell_type": "markdown",
   "metadata": {},
   "source": [
    "If your project has obvious potential concerns with ethics or data privacy discuss that here.  Almost every ML project put into production can have ethical implications if you use your imagination. Use your imagination. Get creative!\n",
    "\n",
    "Even if you can't come up with an obvious ethical concern that should be addressed, you should know that a large number of ML projects that go into producation have unintended consequences and ethical problems once in production. How will your team address these issues?\n",
    "\n",
    "Consider a tool to help you address the potential issues such as https://deon.drivendata.org"
   ]
  },
  {
   "cell_type": "markdown",
   "metadata": {},
   "source": [
    "# Team Expectations "
   ]
  },
  {
   "cell_type": "markdown",
   "metadata": {},
   "source": [
    "Put things here that cement how you will interact/communicate as a team, how you will handle conflict and difficulty, how you will handle making decisions and setting goals/schedule, how much work you expect from each other, how you will handle deadlines, etc...\n",
    "* Make sure you check the group chat consistently and fill out any When2Meets",
    "\n",
    "* If someone is unable to attend a meeting, it is their responsibility to reach out and catch up to what happened in the meeting and what tasks they should do (if someone has not already informed them)",
    "\n",
    "* When writing code, make sure to leave comments so everyone can understand it",
    "\n",
    "* For conflict resolution, talk to each other first. If things don’t get resolved, reach out to the instruction team.",
    "\n",
    "* Meet deadlines. Ask for help if you don't think you can meet them on your own."
   ]
  },
  {
   "cell_type": "markdown",
   "metadata": {},
   "source": [
    "# Project Timeline Proposal"
   ]
  },
  {
   "cell_type": "markdown",
   "metadata": {},
   "source": [
    "Replace this with something meaningful that is appropriate for your needs. It doesn't have to be something that fits this format.  It doesn't have to be set in stone... \"no battle plan survives contact with the enemy\". But you need a battle plan nonetheless, and you need to keep it updated so you understand what you are trying to accomplish, who's responsible for what, and what the expected due dates are for each item.\n",
    "\n",
    "| Meeting Date  | Meeting Time| Completed Before Meeting  | Discuss at Meeting |\n",
    "|---|---|---|---|\n",
    "| 5/2  |  1 PM |  Brainstorm topics/questions (all)  | Determine best form of communication | \n",
    "| 5/7  |  10 AM |  Do background research on topic  | Discuss potential problems and topics that we want to do. Look into what algorithms we want to utilize. | \n",
    "| 5/17  | 10 AM  | Edit, finalize, and submit proposal; Data (Jane), Background (Katelyn), Solution (Shruti)  | Discuss algoithms. Assign group members to lead each specific part   |\n",
    "| 5/27  | 6 PM  | Coding out the environemnt for the battleship game. | Look into the reinforcement learning algorithm and policies we want to use.   |\n",
    "| 6/3 | 12 PM  | Finalize algorithms; Begin programming for project | Discuss/edit project code; Complete project |\n",
    "| 6/10  | 12 PM  | Complete analysis; Draft results/conclusion/discussion | Discuss/edit full project |\n",
    "| 6/12  | Before 11:59 PM  | NA | Turn in Final Project  |"
   ]
  },
  {
   "cell_type": "markdown",
   "metadata": {},
   "source": [
    "# Footnotes\n",
    "<a name=\"tsuchinotet\"></a>1.[^](#tsuchinote): Tsuchiya, A. (25 Apr 2020) An Artificial Intelligence Learns to Play Battleship. *Towards Data Science*. https://towardsdatascience.com/an-artificial-intelligence-learns-to-play-battleship-ebd2cf9adb01#0fbd<br>"
   ]
  },
  {
   "cell_type": "code",
   "execution_count": null,
   "metadata": {},
   "outputs": [],
   "source": []
  }
 ],
 "metadata": {
  "kernelspec": {
   "display_name": "Python 3 (ipykernel)",
   "language": "python",
   "name": "python3"
  },
  "language_info": {
   "codemirror_mode": {
    "name": "ipython",
    "version": 3
   },
   "file_extension": ".py",
   "mimetype": "text/x-python",
   "name": "python",
   "nbconvert_exporter": "python",
   "pygments_lexer": "ipython3",
   "version": "3.10.0"
  }
 },
 "nbformat": 4,
 "nbformat_minor": 2
}
