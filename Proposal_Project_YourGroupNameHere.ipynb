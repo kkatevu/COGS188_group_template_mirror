{
 "cells": [
  {
   "cell_type": "markdown",
   "metadata": {},
   "source": [
    "# COGS 188 - Project Proposal"
   ]
  },
  {
   "cell_type": "markdown",
   "metadata": {},
   "source": [
    "# Names\n",
    "\n",
    "Hopefully your team is at least this good. Obviously you should replace these with your names.\n",
    "\n",
    "- Katelyn Vu\n",
    "- Shruti Rao\n",
    "- Jane\n"
   ]
  },
  {
   "cell_type": "markdown",
   "metadata": {},
   "source": [
    "# Abstract \n",
    "\n",
    "The goal of this project is to develop an AI-powered bot for the classic game Battleship, aimed at enhancing strategic decision-making and gameplay efficiency. The data utilized includes a series of game states, representing the positions of ships and the sequence of moves made by both the AI and human players. These data points are measured in terms of hit or miss outcomes, ship placements, and the number of turns taken to achieve victory. The core of the project involves training the AI to predict optimal moves based on historical game data and employing reinforcement learning techniques to improve its strategy over time. The bot will be tested against both simulated and real human opponents to ensure a comprehensive evaluation. Performance and success will be measured by the AI’s win rate, the average number of moves required to win, and its ability to adapt to different strategies. This project aims to create a robust and intelligent Battleship bot capable of competing at a high level, providing both challenging and engaging gameplay for users."
   ]
  },
  {
   "cell_type": "markdown",
   "metadata": {},
   "source": [
    "# Background\n",
    "\n",
    "Battleship is a classic two-player strategy game that has captivated players of all ages for decades. The objective of the game is to strategically position your fleet of ships on a hidden grid and then guess the locations of your opponent's ships. Each player's grid is typically a 10x10 grid, and the fleet usually consists of ships of varying lengths. Players take turns calling out grid coordinates to attack their opponent's ships, and the first player to sink all of their opponent's ships wins the game. [[2]](https://shsulibraryguides.org/c.php)\n",
    "\n",
    "The popularity of Battleship is not only due to its simplicity but also due to the deep strategic elements it incorporates. Players must balance between offensive and defensive tactics, making educated guesses based on limited information and adjusting their strategies as the game progresses. This blend of strategy, probability, and pattern recognition makes Battleship an ideal candidate for developing artificial intelligence (AI) [[1]](https://towardsdatascience.com/an-artificial-intelligence-learns-to-play-battleship-ebd2cf9adb01#0fbd) to play the game effectively.\n",
    "\n",
    "There have been many previous researchers that have successfully programmed an AI model that can play an effective game of battleship. Alessio Tamburro was able to do so he trained a model using using Q-learning and a linear model with an epsilon-greedy policy.[[1]](https://towardsdatascience.com/an-artificial-intelligence-learns-to-play-battleship-ebd2cf9adb01#0fbd) This was tested on a 5x5 Battleship board over 100,000 episodes. Using stochastic gradient descent to minimize the Q function loss, initial tests with a fixed ship location confirmed the algorithm's effectiveness. For our problem, we want to look at a bigger board and implement reinforcement learning.\n"
   ]
  },
  {
   "cell_type": "markdown",
   "metadata": {},
   "source": [
    "# Problem Statement\n",
    "\n",
    "The problem we aim to solve is the development of an advanced AI bot that can effectively compete against human players in an enhanced version of the Battleship game. This version features a larger 15x15 grid, which introduces increased complexity and requires more sophisticated strategies. The core challenge is to create an AI that can accurately predict the positions of the opponent's fleet and execute strategic maneuvers to efficiently sink their ships while minimizing the risk to its own fleet. It can be expressed in mathematical terms by optimizing search algorithms and strategic decision-making processes, measured through specific metrics such as the number of games won and average number of moves taken, and consistently reproduced under standardized game rules for thorough testing and validation.\n"
   ]
  },
  {
   "cell_type": "markdown",
   "metadata": {},
   "source": [
    "# Data\n",
    "For our Battleship AI, we will be training our model based on the game states and the reward that each game state gives. 
     Each game state will be represented as a tuple (x,y) where x,y is the x and y coordinates of a chosen square in the 15 by 15 game board. 
     Based on whether that square results in a hit or miss, positive rewards will be given for a hit with a greater positive reward where the hit results in a sunken ship and a negative reward for a miss. 
     In the case the chosen square results in a hit, all squares in a one step radius will be checked if the ship is not sunk until the ship is sunk. 
     Otherwise, a random unchosen square will be chosen." 
   ]
  },
  {
   "cell_type": "markdown",
   "metadata": {},
   "source": [
    "# Proposed Solution\n",
     "Using dynamic programming, our model should find the policy that would return the greatest reward based on multiple iterations of the game. 
     The state would be represented by the x and y coordinates of a square in the 15 by 15 game board. 
     The reward would be negative if the shot is a miss and a positive reward for a hit with the highest possible reward given when a hit results in a sunken ship. 
     Based on whether the result is a hit or miss, the transition to the next state would differ. In the case that the result is a miss or a hit that results in a sunken ship, any square can be chosen. 
     However, if the result is a hit and the ship hasn’t sunk, then the next action would be to move to a square that’s within a one step radius. 
     Therefore, for every iteration of the game, the AI should be exploring different states and updating the value function as it does so with the reward it receives at the state. 
     Then, based on the expected reward, the function should eventually converge to a policy where each move results in the highest expected reward. 
     To test the model, we would use the result of the game as well as the frequency of wins and losses."
   ]
  },
  {
   "cell_type": "markdown",
   "metadata": {},
   "source": [
    "# Evaluation Metrics\n",
    "\n",
    "This project focuses on the decision-making and efficiency of an AI bot in a Battleship game setting. Therefore, the evaluation metrics will concentrate on optimizing the strategy to maximize the bot’s success against its opponent. It is crucial to assess the winning rate (the number of games won by the bot), the number of moves needed (the approximate number of moves to reach the goal state), and the move success rate (the number of successful moves made by the bot per game). Each of these evaluation metrics can be represented mathematically as follows: \n",
    "Winning rate = number of games won/ number of games played.\n",
    "    *Example: The bot wins 4 games and played 5 total = 4/5\n",
    "Moves needed = total number of moves needed to win in each game/ number of successful games. \n",
    "    Example: the total number of moves needed to win acoss 3 games is 10 = 10/3\n",
    "Move success rate = number of successful moves/ number of moves in total.\n",
    "    Example: the bot makes 5 successful moves and 7 total moves in the game = 5/7 \n",
    "Each of these metrics represents key measures needed to assess the overall performance of the bot, such as efficiency, effectiveness, and accuracy. Understanding these metrics will help gauge the effectiveness of improvements made based on specific goals. [3]\n"
   ]
  },
  {
   "cell_type": "markdown",
   "metadata": {},
   "source": [
    "# Ethics & Privacy"
   ]
  },
  {
   "cell_type": "markdown",
   "metadata": {},
   "source": [
    "This Project is based on a game environment  therefore it is important to address any ethics and privacy concerns revolving around the human player that is participating against the AI. SInce the AI bot is designed to play with the highest efficiency, it is important to consider the AI bot’s interaction with the human user. For example, if a child with little battleship game experience is playing against the AI designed to win every time, it will not be fair to the player. One solution to this is to create the bot so that it plays according to different difficulty levels, making it accessible to a variety of players both beginners and experts. \n",
    "\n",
    "It is equally important to prioritize the user's privacy and safety with any and all data that is collected about that user. For this reason it is important to carry transparency about what data is collected and how it will be collected, and if any data will be stored. If there is any need to share personal data, it should only be done after consensual authorization, taking these privacy issues into account, it will be easier to create a safe and trustworthy environment that will bring more online users. In most cases it is best to have a session based game setting where the user will remain anonymous to avoid any privacy concerns. [4]\n"
   ]
  },
  {
   "cell_type": "markdown",
   "metadata": {},
   "source": [
    "# Team Expectations "
   ]
  },
  {
   "cell_type": "markdown",
   "metadata": {},
   "source": [
    "Put things here that cement how you will interact/communicate as a team, how you will handle conflict and difficulty, how you will handle making decisions and setting goals/schedule, how much work you expect from each other, how you will handle deadlines, etc...\n",
    "* Make sure you check the group chat consistently and fill out any When2Meets\n",
    "* If someone is unable to attend a meeting, it is their responsibility to reach out and catch up to what happened in the meeting and what tasks they should do (if someone has not already informed them)\n",
    "* When writing code, make sure to leave comments so everyone can understand it\n",
    "* For conflict resolution, talk to each other first. If things don’t get resolved, reach out to the instruction team.\n",
    "* Meet deadlines. Ask for help if you don't think you can meet them on your own."
   ]
  },
  {
   "cell_type": "markdown",
   "metadata": {},
   "source": [
    "# Project Timeline Proposal"
   ]
  },
  {
   "cell_type": "markdown",
   "metadata": {},
   "source": [
    "Replace this with something meaningful that is appropriate for your needs. It doesn't have to be something that fits this format.  It doesn't have to be set in stone... \"no battle plan survives contact with the enemy\". But you need a battle plan nonetheless, and you need to keep it updated so you understand what you are trying to accomplish, who's responsible for what, and what the expected due dates are for each item.\n",
    "\n",
    "| Meeting Date  | Meeting Time| Completed Before Meeting  | Discuss at Meeting |\n",
    "|---|---|---|---|\n",
    "| 5/2  |  1 PM |  Brainstorm topics/questions (all)  | Determine best form of communication | \n",
    "| 5/7  |  10 AM |  Do background research on topic  | Discuss potential problems and topics that we want to do. Look into what algorithms we want to utilize. | \n",
    "| 5/17  | 10 AM  | Edit, finalize, and submit proposal; Data (Jane), Background (Katelyn), Solution (Shruti)  | Discuss algoithms. Assign group members to lead each specific part   |\n",
    "| 5/27  | 6 PM  | Coding out the environemnt for the battleship game. | Look into the reinforcement learning algorithm and policies we want to use.   |\n",
    "| 6/3 | 12 PM  | Finalize algorithms; Begin programming for project | Discuss/edit project code; Complete project |\n",
    "| 6/10  | 12 PM  | Complete analysis; Draft results/conclusion/discussion | Discuss/edit full project |\n",
    "| 6/12  | Before 11:59 PM  | NA | Turn in Final Project  |"
   ]
  },
  {
   "cell_type": "markdown",
   "metadata": {},
   "source": [
    "# Footnotes\n",
    "<a name=\"tsuchinotet\"></a>1.[^](#tsuchinote): Tamburro, A. (25 Apr 2020) An Artificial Intelligence Learns to Play Battleship. *Towards Data Science*. https://towardsdatascience.com/an-artificial-intelligence-learns-to-play-battleship-ebd2cf9adb01#0fbd<br><a name=\"shsulibrarynote\"></a>2.[^](#shsulibrary): Sam Houston State University Library. (n.d.) Battleship Game Rules. *SHSU Library Guides*. https://shsulibraryguides.org/c.php?g=1162121&p=8578888#:~:text=Each%20player%20deploys%20his%20ships,ships%20are%20and%20sink%20them.<br>\n",
    "3. AhmedTaha. (2023, November 3). Complete Guide to Machine Learning Evaluation Metrics. CloudLink, LLC. https://cloudlink.us/complete-guide-to-machine-learning-evaluation-metrics-2/ <br>4. An ethics checklist for data scientists. Deon. (n.d.). https://deon.drivendata.org/ <br>"
   ]
  },
  {
   "cell_type": "code",
   "execution_count": null,
   "metadata": {},
   "outputs": [],
   "source": []
  }
 ],
 "metadata": {
  "kernelspec": {
   "display_name": "Python 3 (ipykernel)",
   "language": "python",
   "name": "python3"
  },
  "language_info": {
   "codemirror_mode": {
    "name": "ipython",
    "version": 3
   },
   "file_extension": ".py",
   "mimetype": "text/x-python",
   "name": "python",
   "nbconvert_exporter": "python",
   "pygments_lexer": "ipython3",
   "version": "3.11.7"
  }
 },
 "nbformat": 4,
 "nbformat_minor": 2
}
