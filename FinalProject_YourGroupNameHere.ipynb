{
 "cells": [
  {
   "cell_type": "markdown",
   "metadata": {},
   "source": [
    "# COGS 118B - Final Project"
   ]
  },
  {
   "cell_type": "markdown",
   "metadata": {},
   "source": [
    "# Battleship AI\n",
    "\n",
    "## Group members\n",
    "\n",
    "- Katelyn Vu\n",
    "- Shruti Rao\n",
    "- Jane Lee"
   ]
  },
  {
   "cell_type": "markdown",
   "metadata": {},
   "source": [
    "# Abstract \n",
    "The goal of this project is to develop an AI-powered bot for the classic game Battleship, aimed at enhancing strategic decision-making and gameplay efficiency. The data utilized includes a series of game states, representing the positions of ships and the sequence of moves made by both the AI and human players. These data points are measured in terms of hit or miss outcomes, ship placements, and the number of turns taken to achieve victory. The core of the project involves training the AI to select optimal moves by employing reinforcement learning techniques, specifically Q-learning, to improve its strategy over time. The effectiveness of each algorithm was evaluated by examining the number of turns it takes for the computer to win and comparing wins from each algorithm. The bot will be tested against both simulated and real human opponents to ensure a comprehensive evaluation. Performance and success will be measured by the AI’s win rate, the average number of moves required to win, and its ability to adapt to different strategies.This project aims to create a robust and intelligent Battleship bot capable of competing at a high level, providing both challenging and engaging gameplay for users"
   ]
  },
  {
   "cell_type": "markdown",
   "metadata": {},
   "source": [
    "# Background\n",
    "\n",
    "Battleship is a classic two-player strategy game that has captivated players of all ages for decades. The objective of the game is to strategically position your fleet of ships on a hidden grid and then guess the locations of your opponent's ships. Each player's grid is typically a 10x10 grid, and the fleet usually consists of ships of varying lengths. Players take turns calling out grid coordinates to attack their opponent's ships, and the first player to sink all of their opponent's ships wins the game. [[2]](https://shsulibraryguides.org/c.php)\n",
    "\n",
    "The popularity of Battleship is not only due to its simplicity but also due to the deep strategic elements it incorporates. Players must balance between offensive and defensive tactics, making educated guesses based on limited information and adjusting their strategies as the game progresses. This blend of strategy, probability, and pattern recognition makes Battleship an ideal candidate for developing artificial intelligence (AI) [[1]](https://towardsdatascience.com/an-artificial-intelligence-learns-to-play-battleship-ebd2cf9adb01#0fbd) to play the game effectively.\n",
    "\n",
    "There have been many previous researchers that have successfully programmed an AI model that can play an effective game of battleship. Alessio Tamburro was able to do so he trained a model using using Q-learning and a linear model with an epsilon-greedy policy.[[1]](https://towardsdatascience.com/an-artificial-intelligence-learns-to-play-battleship-ebd2cf9adb01#0fbd) This was tested on a 5x5 Battleship board over 100,000 episodes. Using stochastic gradient descent to minimize the Q function loss, initial tests with a fixed ship location confirmed the algorithm's effectiveness. For our problem, we want to look at a bigger board and implement reinforcement learning."
   ]
  },
  {
   "cell_type": "markdown",
   "metadata": {},
   "source": [
    "# Problem Statement\n",
    "\n",
    "The problem we aim to solve is the development of an advanced AI bot that can effectively compete against human players in an enhanced version of the Battleship game. This version features a larger 15x15 grid, which introduces increased complexity and requires more sophisticated strategies. The core challenge is to create an AI that can accurately predict the positions of the opponent's fleet and execute strategic maneuvers to efficiently sink their ships while minimizing the risk to its own fleet. It can be expressed in mathematical terms by optimizing search algorithms and strategic decision-making processes, measured through specific metrics such as the number of games won and average number of moves taken, and consistently reproduced under standardized game rules for thorough testing and validation."
   ]
  },
  {
   "cell_type": "markdown",
   "metadata": {},
   "source": [
    "# Data\n",
    "\n",
    "Detail how/where you obtained the data and cleaned it (if necessary)\n",
    "\n",
    "If the data cleaning process is very long (e.g., elaborate text processing) consider describing it briefly here in text, and moving the actual clearning process to another notebook in your repo (include a link here!).  The idea behind this approach: this is a report, and if you blow up the flow of the report to include a lot of code it makes it hard to read.\n",
    "\n",
    "Please give the following infomration for each dataset you are using\n",
    "- link/reference to obtain it\n",
    "- description of the size of the dataset (# of variables, # of observations)\n",
    "- what an observation consists of\n",
    "- what some critical variables are, how they are represented\n",
    "- any special handling, transformations, cleaning, etc you have done should be demonstrated here!\n"
   ]
  },
  {
   "cell_type": "markdown",
   "metadata": {},
   "source": [
    "# Proposed Solution\n",
    "\n",
    "In this section, clearly describe a solution to the problem. The solution should be applicable to the project domain and appropriate for the dataset(s) or input(s) given. Provide enough detail (e.g., algorithmic description and/or theoretical properties) to convince us that your solution is applicable. Make sure to describe how the solution will be tested.  \n",
    "\n",
    "If you know details already, describe how (e.g., library used, function calls) you plan to implement the solution in a way that is reproducible.\n",
    "\n",
    "If it is appropriate to the problem statement, describe a benchmark model<a name=\"sota\"></a>[<sup>[3]</sup>](#sotanote) against which your solution will be compared. "
   ]
  },
  {
   "cell_type": "markdown",
   "metadata": {},
   "source": [
    "# Evaluation Metrics\n",
    "\n",
    "This project focuses on the decision-making and efficiency of an AI bot in a Battleship game setting. Therefore, the evaluation metrics will concentrate on optimizing the strategy to maximize the bot’s success against its opponent. It is crucial to assess the winning rate (the number of games won by the bot), the number of moves needed (the approximate number of moves to reach the goal state), and the move success rate (the number of successful moves made by the bot per game). Each of these evaluation metrics can be represented mathematically as follows: \n",
    "Winning rate = number of games won/ number of games played.\n",
    "    *Example: The bot wins 4 games and played 5 total = 4/5\n",
    "Moves needed = total number of moves needed to win in each game/ number of successful games. \n",
    "    Example: the total number of moves needed to win acoss 3 games is 10 = 10/3\n",
    "Move success rate = number of successful moves/ number of moves in total.\n",
    "    Example: the bot makes 5 successful moves and 7 total moves in the game = 5/7 \n",
    "Each of these metrics represents key measures needed to assess the overall performance of the bot, such as efficiency, effectiveness, and accuracy. Understanding these metrics will help gauge the effectiveness of improvements made based on specific goals. [3]\n"
   ]
  },
  {
   "cell_type": "markdown",
   "metadata": {},
   "source": [
    "# Results\n",
    "\n",
    "You may have done tons of work on this. Not all of it belongs here. \n",
    "\n",
    "Reports should have a __narrative__. Once you've looked through all your results over the quarter, decide on one main point and 2-4 secondary points you want us to understand. Include the detailed code and analysis results of those points only; you should spend more time/code/plots on your main point than the others.\n",
    "\n",
    "If you went down any blind alleys that you later decided to not pursue, please don't abuse the TAs time by throwing in 81 lines of code and 4 plots related to something you actually abandoned.  Consider deleting things that are not important to your narrative.  If its slightly relevant to the narrative or you just want us to know you tried something, you could keep it in by summarizing the result in this report in a sentence or two, moving the actual analysis to another file in your repo, and providing us a link to that file.\n",
    "\n",
    "### Subsection 1\n",
    "\n",
    "You will likely have different subsections as you go through your report. For instance you might start with an analysis of the dataset/problem and from there you might be able to draw out the kinds of algorithms that are / aren't appropriate to tackle the solution.  Or something else completely if this isn't the way your project works.\n",
    "\n",
    "### Subsection 2\n",
    "\n",
    "Another likely section is if you are doing any feature selection through cross-validation or hand-design/validation of features/transformations of the data\n",
    "\n",
    "### Subsection 3\n",
    "\n",
    "Probably you need to describe the base model and demonstrate its performance.  Maybe you include a learning curve to show whether you have enough data to do train/validate/test split or have to go to k-folds or LOOCV or ???\n",
    "\n",
    "### Subsection 4\n",
    "\n",
    "Perhaps some exploration of the model selection (hyper-parameters) or algorithm selection task. Validation curves, plots showing the variability of perfromance across folds of the cross-validation, etc. If you're doing one, the outcome of the null hypothesis test or parsimony principle check to show how you are selecting the best model.\n",
    "\n",
    "### Subsection 5 \n",
    "\n",
    "Maybe you do model selection again, but using a different kind of metric than before?\n",
    "\n"
   ]
  },
  {
   "cell_type": "markdown",
   "metadata": {},
   "source": [
    "## Subsection 1: Creating Battleship Game Environment \n",
    "Utilizing pygames, we set up a game environment that allows two "
   ]
  },
  {
   "cell_type": "markdown",
   "metadata": {},
   "source": [
    "## Subsection 2: Trying Random Guessing Model\n"
   ]
  },
  {
   "cell_type": "markdown",
   "metadata": {},
   "source": [
    "# Discussion\n",
    "\n",
    "### Interpreting the result\n",
    "\n",
    "OK, you've given us quite a bit of tech informaiton above, now its time to tell us what to pay attention to in all that.  Think clearly about your results, decide on one main point and 2-4 secondary points you want us to understand. Highlight HOW your results support those points.  You probably want 2-5 sentences per point.\n",
    "\n",
    "### Limitations\n",
    "\n",
    "Are there any problems with the work?  For instance would more data change the nature of the problem? Would it be good to explore more hyperparams than you had time for?   \n",
    "\n",
    "### Ethics & Privacy\n",
    "\n",
    "This Project is based on a game environment  therefore it is important to address any ethics and privacy concerns revolving around the human player that is participating against the AI. SInce the AI bot is designed to play with the highest efficiency, it is important to consider the AI bot’s interaction with the human user. For example, if a child with little battleship game experience is playing against the AI designed to win every time, it will not be fair to the player. One solution to this is to create the bot so that it plays according to different difficulty levels, making it accessible to a variety of players both beginners and experts. \n",
    "\n",
    "It is equally important to prioritize the user's privacy and safety with any and all data that is collected about that user. For this reason it is important to carry transparency about what data is collected and how it will be collected, and if any data will be stored. If there is any need to share personal data, it should only be done after consensual authorization, taking these privacy issues into account, it will be easier to create a safe and trustworthy environment that will bring more online users. In most cases it is best to have a session based game setting where the user will remain anonymous to avoid any privacy concerns. [4]\n",
    "\n",
    "\n",
    "### Conclusion\n",
    "\n",
    "Reiterate your main point and in just a few sentences tell us how your results support it. Mention how this work would fit in the background/context of other work in this field if you can. Suggest directions for future work if you want to."
   ]
  },
  {
   "cell_type": "markdown",
   "metadata": {},
   "source": [
    "# Footnotes\n",
    "<a name=\"tsuchinotet\"></a>1.[^](#tsuchinote): Tamburro, A. (25 Apr 2020) An Artificial Intelligence Learns to Play Battleship. *Towards Data Science*. https://towardsdatascience.com/an-artificial-intelligence-learns-to-play-battleship-ebd2cf9adb01#0fbd<br><a name=\"shsulibrarynote\"></a>2.[^](#shsulibrary): Sam Houston State University Library. (n.d.) Battleship Game Rules. *SHSU Library Guides*. https://shsulibraryguides.org/c.php?g=1162121&p=8578888#:~:text=Each%20player%20deploys%20his%20ships,ships%20are%20and%20sink%20them.<br>\n",
    "3. AhmedTaha. (2023, November 3). Complete Guide to Machine Learning Evaluation Metrics. CloudLink, LLC. https://cloudlink.us/complete-guide-to-machine-learning-evaluation-metrics-2/ <br>4. An ethics checklist for data scientists. Deon. (n.d.). https://deon.drivendata.org/ <br>\n"
   ]
  },
  {
   "cell_type": "markdown",
   "metadata": {},
   "source": []
  }
 ],
 "metadata": {
  "kernelspec": {
   "display_name": "Python 3 (ipykernel)",
   "language": "python",
   "name": "python3"
  },
  "language_info": {
   "codemirror_mode": {
    "name": "ipython",
    "version": 3
   },
   "file_extension": ".py",
   "mimetype": "text/x-python",
   "name": "python",
   "nbconvert_exporter": "python",
   "pygments_lexer": "ipython3",
   "version": "3.11.4"
  }
 },
 "nbformat": 4,
 "nbformat_minor": 2
}
